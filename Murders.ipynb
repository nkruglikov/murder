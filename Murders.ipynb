{
 "cells": [
  {
   "cell_type": "code",
   "execution_count": 1,
   "metadata": {},
   "outputs": [],
   "source": [
    "import pandas as pd\n",
    "import re"
   ]
  },
  {
   "cell_type": "code",
   "execution_count": 2,
   "metadata": {},
   "outputs": [],
   "source": [
    "def fix_country(country):\n",
    "    country = re.sub(r\"(\\(.*?\\)|\\[.*?\\])\", \" \", country)\n",
    "    country = re.sub(r\"Flag of .*?\\.\\w*\", \" \", country)\n",
    "    countries = country.split()\n",
    "    result = []\n",
    "    current = []\n",
    "    for country in countries:\n",
    "        current.append(country)\n",
    "        if not country in [\"United\", \"Soviet\", \"Ottoman\", \"Allied-occupied\", \"South\"]:\n",
    "            result.append(\" \".join(current))\n",
    "            current = []\n",
    "    if \"Russia\" in result or \"Soviet Union\" in result or \"Ukraine\" in result:\n",
    "        return \"USSR/Russia\"\n",
    "    return result[0]"
   ]
  },
  {
   "cell_type": "code",
   "execution_count": 3,
   "metadata": {},
   "outputs": [],
   "source": [
    "def read_table(name):\n",
    "    table = pd.read_csv(name,\n",
    "                        sep=\"\\t\",\n",
    "                        names=[\"name\", \"country\", \"years\", \"count1\", \"count2\"],\n",
    "                        index_col=False)\n",
    "    table.country = table.country.map(fix_country)\n",
    "    return table"
   ]
  },
  {
   "cell_type": "code",
   "execution_count": 4,
   "metadata": {},
   "outputs": [],
   "source": [
    "def sorted_cases(table):\n",
    "    return table.groupby(\"country\").count().name.sort_values(ascending=False)"
   ]
  },
  {
   "cell_type": "code",
   "execution_count": 5,
   "metadata": {},
   "outputs": [
    {
     "name": "stdout",
     "output_type": "stream",
     "text": [
      "Platinum league:\n",
      "country\n",
      "USSR/Russia      9\n",
      "United States    5\n",
      "Colombia         3\n",
      "Brazil           3\n",
      "India            2\n",
      "Name: name, dtype: int64\n",
      "\n",
      "Golden league:\n",
      "country\n",
      "United States    17\n",
      "USSR/Russia      10\n",
      "South Africa     10\n",
      "India             7\n",
      "China             3\n",
      "Name: name, dtype: int64\n",
      "\n",
      "Silver league:\n",
      "country\n",
      "United States    59\n",
      "USSR/Russia      24\n",
      "South Africa      8\n",
      "France            5\n",
      "China             5\n",
      "Name: name, dtype: int64\n",
      "\n",
      "Bronze league:\n",
      "country\n",
      "United States     10\n",
      "United Kingdom     7\n",
      "Italy              2\n",
      "USSR/Russia        1\n",
      "Turkey             1\n",
      "Name: name, dtype: int64\n",
      "\n",
      "Medical league:\n",
      "country\n",
      "United States     11\n",
      "France             4\n",
      "United Kingdom     2\n",
      "Germany            2\n",
      "USSR/Russia        1\n",
      "Name: name, dtype: int64\n",
      "\n",
      "Group league:\n",
      "country\n",
      "United States     13\n",
      "USSR/Russia        6\n",
      "Mexico             6\n",
      "China              5\n",
      "United Kingdom     3\n",
      "Name: name, dtype: int64\n",
      "\n"
     ]
    }
   ],
   "source": [
    "for no, league in enumerate([\"Platinum\", \"Golden\", \"Silver\", \"Bronze\", \"Medical\", \"Group\"], start=1):\n",
    "    table = read_table(f\"{no}.tsv\")\n",
    "    scores = sorted_cases(table)[:5]\n",
    "    print(league, \"league:\")\n",
    "    print(scores)\n",
    "    print()"
   ]
  },
  {
   "cell_type": "code",
   "execution_count": 6,
   "metadata": {},
   "outputs": [
    {
     "name": "stdout",
     "output_type": "stream",
     "text": [
      "country\n",
      "United States    115\n",
      "USSR/Russia       51\n",
      "Mexico            11\n",
      "Name: name, dtype: int64\n"
     ]
    }
   ],
   "source": [
    "scores = []\n",
    "for no, league in enumerate([\"Platinum\", \"Golden\", \"Silver\", \"Bronze\", \"Medical\", \"Group\"], start=1):\n",
    "    scores.append(sorted_cases(read_table(f\"{no}.tsv\")))\n",
    "total = sum(scores).dropna().astype(int)\n",
    "print(total.sort_values(ascending=False))"
   ]
  }
 ],
 "metadata": {
  "kernelspec": {
   "display_name": "Python 3",
   "language": "python",
   "name": "python3"
  },
  "language_info": {
   "codemirror_mode": {
    "name": "ipython",
    "version": 3
   },
   "file_extension": ".py",
   "mimetype": "text/x-python",
   "name": "python",
   "nbconvert_exporter": "python",
   "pygments_lexer": "ipython3",
   "version": "3.8.6"
  }
 },
 "nbformat": 4,
 "nbformat_minor": 4
}
